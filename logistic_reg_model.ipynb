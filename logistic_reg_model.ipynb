{
 "cells": [
  {
   "cell_type": "code",
   "execution_count": 1,
   "metadata": {},
   "outputs": [],
   "source": [
    "import pandas as pd\n",
    "import pylab as pl\n",
    "import numpy as np\n",
    "import scipy.optimize as opt\n",
    "from sklearn import preprocessing\n",
    "'exec(% matplotlib inline)'\n",
    "import matplotlib.pyplot as plt\n",
    "import matplotlib.mlab as mlab\n",
    "import seaborn as sns"
   ]
  },
  {
   "cell_type": "code",
   "execution_count": 2,
   "metadata": {},
   "outputs": [
    {
     "name": "stdout",
     "output_type": "stream",
     "text": [
      "     Age  Gender Marital Status Occupation  Monthly Income  \\\n",
      "0     20  Female         Single    Student       No Income   \n",
      "1     24  Female         Single    Student  Below Rs.10000   \n",
      "2     22    Male         Single    Student  Below Rs.10000   \n",
      "3     22  Female         Single    Student       No Income   \n",
      "4     22    Male         Single    Student  Below Rs.10000   \n",
      "..   ...     ...            ...        ...             ...   \n",
      "383   23  Female         Single    Student       No Income   \n",
      "384   23  Female         Single    Student       No Income   \n",
      "385   22  Female         Single    Student       No Income   \n",
      "386   23    Male         Single    Student  Below Rs.10000   \n",
      "387   23    Male         Single    Student       No Income   \n",
      "\n",
      "    Educational Qualifications  Family size  latitude  longitude  Pin code  \\\n",
      "0                Post Graduate            4   12.9766    77.5993    560001   \n",
      "1                     Graduate            3   12.9770    77.5773    560009   \n",
      "2                Post Graduate            3   12.9551    77.6593    560017   \n",
      "3                     Graduate            6   12.9473    77.5616    560019   \n",
      "4                Post Graduate            4   12.9850    77.5533    560010   \n",
      "..                         ...          ...       ...        ...       ...   \n",
      "383              Post Graduate            2   12.9766    77.5993    560001   \n",
      "384              Post Graduate            4   12.9854    77.7081    560048   \n",
      "385              Post Graduate            5   12.9850    77.5533    560010   \n",
      "386              Post Graduate            2   12.9770    77.5773    560009   \n",
      "387              Post Graduate            5   12.8988    77.5764    560078   \n",
      "\n",
      "    Output   Feedback Unamed  \n",
      "0      Yes   Positive    Yes  \n",
      "1      Yes   Positive    Yes  \n",
      "2      Yes  Negative     Yes  \n",
      "3      Yes   Positive    Yes  \n",
      "4      Yes   Positive    Yes  \n",
      "..     ...        ...    ...  \n",
      "383    Yes   Positive    Yes  \n",
      "384    Yes   Positive    Yes  \n",
      "385    Yes   Positive    Yes  \n",
      "386    Yes   Positive    Yes  \n",
      "387    Yes   Positive    Yes  \n",
      "\n",
      "[388 rows x 13 columns]\n"
     ]
    }
   ],
   "source": [
    "dataset= pd.read_csv(\"onlinefoods.csv\")\n",
    "print(dataset)"
   ]
  },
  {
   "cell_type": "code",
   "execution_count": 3,
   "metadata": {},
   "outputs": [
    {
     "name": "stdout",
     "output_type": "stream",
     "text": [
      "     Age  Gender Occupation  Family size   Feedback\n",
      "0     20  Female    Student            4   Positive\n",
      "1     24  Female    Student            3   Positive\n",
      "2     22    Male    Student            3  Negative \n",
      "3     22  Female    Student            6   Positive\n",
      "4     22    Male    Student            4   Positive\n",
      "..   ...     ...        ...          ...        ...\n",
      "383   23  Female    Student            2   Positive\n",
      "384   23  Female    Student            4   Positive\n",
      "385   22  Female    Student            5   Positive\n",
      "386   23    Male    Student            2   Positive\n",
      "387   23    Male    Student            5   Positive\n",
      "\n",
      "[388 rows x 5 columns]\n"
     ]
    }
   ],
   "source": [
    "dataset.drop(['Pin code', 'Output', 'Unamed', 'Monthly Income', 'Marital Status', 'Educational Qualifications', 'latitude', 'longitude'], inplace = True, axis = 1)\n",
    "print(dataset)"
   ]
  },
  {
   "cell_type": "code",
   "execution_count": 4,
   "metadata": {},
   "outputs": [
    {
     "name": "stdout",
     "output_type": "stream",
     "text": [
      "   Age  Gender Occupation  Family size   Feedback\n",
      "0   20  Female    Student            4   Positive\n",
      "1   24  Female    Student            3   Positive\n",
      "2   22    Male    Student            3  Negative \n",
      "3   22  Female    Student            6   Positive\n",
      "4   22    Male    Student            4   Positive (388, 5)\n",
      "Feedback\n",
      "Positive     317\n",
      "Negative      71\n",
      "Name: count, dtype: int64\n"
     ]
    }
   ],
   "source": [
    "dataset.dropna(axis = 0, inplace = True)\n",
    "print(dataset.head(), dataset.shape)\n",
    "print(dataset.Feedback.value_counts())"
   ]
  },
  {
   "cell_type": "code",
   "execution_count": 5,
   "metadata": {},
   "outputs": [],
   "source": [
    "X = dataset.iloc[:, :-1].values\n",
    "y = dataset.iloc[:, -1].values"
   ]
  },
  {
   "cell_type": "code",
   "execution_count": 6,
   "metadata": {},
   "outputs": [
    {
     "name": "stdout",
     "output_type": "stream",
     "text": [
      "[[20 'Female' 'Student' 4]\n",
      " [24 'Female' 'Student' 3]\n",
      " [22 'Male' 'Student' 3]\n",
      " ...\n",
      " [22 'Female' 'Student' 5]\n",
      " [23 'Male' 'Student' 2]\n",
      " [23 'Male' 'Student' 5]]\n"
     ]
    }
   ],
   "source": [
    "print(X)"
   ]
  },
  {
   "cell_type": "code",
   "execution_count": 7,
   "metadata": {},
   "outputs": [
    {
     "name": "stdout",
     "output_type": "stream",
     "text": [
      "['Positive' 'Positive' 'Negative ' 'Positive' 'Positive' 'Positive'\n",
      " 'Positive' 'Positive' 'Positive' 'Positive' 'Positive' 'Negative '\n",
      " 'Positive' 'Positive' 'Positive' 'Positive' 'Positive' 'Negative '\n",
      " 'Negative ' 'Positive' 'Positive' 'Positive' 'Positive' 'Positive'\n",
      " 'Positive' 'Positive' 'Positive' 'Positive' 'Positive' 'Positive'\n",
      " 'Positive' 'Positive' 'Positive' 'Positive' 'Positive' 'Positive'\n",
      " 'Positive' 'Negative ' 'Positive' 'Positive' 'Negative ' 'Positive'\n",
      " 'Positive' 'Positive' 'Positive' 'Positive' 'Positive' 'Positive'\n",
      " 'Negative ' 'Positive' 'Positive' 'Positive' 'Positive' 'Positive'\n",
      " 'Positive' 'Positive' 'Positive' 'Positive' 'Positive' 'Positive'\n",
      " 'Positive' 'Positive' 'Positive' 'Positive' 'Positive' 'Positive'\n",
      " 'Positive' 'Positive' 'Positive' 'Positive' 'Positive' 'Positive'\n",
      " 'Positive' 'Positive' 'Positive' 'Positive' 'Positive' 'Positive'\n",
      " 'Positive' 'Positive' 'Positive' 'Positive' 'Positive' 'Positive'\n",
      " 'Positive' 'Positive' 'Positive' 'Positive' 'Positive' 'Negative '\n",
      " 'Positive' 'Positive' 'Positive' 'Positive' 'Positive' 'Positive'\n",
      " 'Positive' 'Positive' 'Positive' 'Positive' 'Positive' 'Positive'\n",
      " 'Positive' 'Positive' 'Negative ' 'Positive' 'Positive' 'Positive'\n",
      " 'Positive' 'Positive' 'Positive' 'Positive' 'Positive' 'Positive'\n",
      " 'Positive' 'Negative ' 'Positive' 'Positive' 'Positive' 'Positive'\n",
      " 'Positive' 'Positive' 'Positive' 'Negative ' 'Negative ' 'Positive'\n",
      " 'Positive' 'Positive' 'Positive' 'Positive' 'Positive' 'Positive'\n",
      " 'Positive' 'Negative ' 'Positive' 'Positive' 'Positive' 'Negative '\n",
      " 'Positive' 'Positive' 'Positive' 'Negative ' 'Positive' 'Positive'\n",
      " 'Negative ' 'Positive' 'Positive' 'Positive' 'Positive' 'Positive'\n",
      " 'Positive' 'Positive' 'Positive' 'Positive' 'Positive' 'Positive'\n",
      " 'Positive' 'Positive' 'Negative ' 'Positive' 'Positive' 'Negative '\n",
      " 'Positive' 'Positive' 'Positive' 'Positive' 'Negative ' 'Positive'\n",
      " 'Positive' 'Negative ' 'Positive' 'Positive' 'Positive' 'Positive'\n",
      " 'Positive' 'Positive' 'Positive' 'Negative ' 'Negative ' 'Positive'\n",
      " 'Positive' 'Negative ' 'Positive' 'Positive' 'Positive' 'Positive'\n",
      " 'Positive' 'Positive' 'Negative ' 'Positive' 'Negative ' 'Positive'\n",
      " 'Positive' 'Positive' 'Positive' 'Positive' 'Positive' 'Positive'\n",
      " 'Positive' 'Negative ' 'Positive' 'Positive' 'Positive' 'Positive'\n",
      " 'Positive' 'Positive' 'Negative ' 'Positive' 'Positive' 'Negative '\n",
      " 'Negative ' 'Positive' 'Negative ' 'Positive' 'Positive' 'Negative '\n",
      " 'Positive' 'Negative ' 'Positive' 'Positive' 'Positive' 'Positive'\n",
      " 'Positive' 'Positive' 'Positive' 'Positive' 'Positive' 'Positive'\n",
      " 'Negative ' 'Positive' 'Positive' 'Positive' 'Negative ' 'Positive'\n",
      " 'Positive' 'Negative ' 'Positive' 'Positive' 'Positive' 'Positive'\n",
      " 'Positive' 'Positive' 'Positive' 'Positive' 'Negative ' 'Positive'\n",
      " 'Negative ' 'Positive' 'Negative ' 'Positive' 'Positive' 'Positive'\n",
      " 'Positive' 'Positive' 'Positive' 'Positive' 'Negative ' 'Negative '\n",
      " 'Positive' 'Negative ' 'Positive' 'Negative ' 'Negative ' 'Negative '\n",
      " 'Positive' 'Positive' 'Negative ' 'Positive' 'Positive' 'Positive'\n",
      " 'Positive' 'Negative ' 'Positive' 'Positive' 'Positive' 'Positive'\n",
      " 'Positive' 'Positive' 'Negative ' 'Positive' 'Positive' 'Positive'\n",
      " 'Positive' 'Positive' 'Positive' 'Positive' 'Positive' 'Negative '\n",
      " 'Positive' 'Positive' 'Positive' 'Positive' 'Negative ' 'Negative '\n",
      " 'Negative ' 'Positive' 'Positive' 'Positive' 'Negative ' 'Negative '\n",
      " 'Negative ' 'Positive' 'Positive' 'Positive' 'Positive' 'Positive'\n",
      " 'Positive' 'Positive' 'Positive' 'Negative ' 'Positive' 'Positive'\n",
      " 'Positive' 'Positive' 'Positive' 'Negative ' 'Positive' 'Positive'\n",
      " 'Positive' 'Negative ' 'Positive' 'Positive' 'Negative ' 'Positive'\n",
      " 'Positive' 'Positive' 'Positive' 'Positive' 'Positive' 'Positive'\n",
      " 'Positive' 'Positive' 'Positive' 'Negative ' 'Positive' 'Positive'\n",
      " 'Negative ' 'Positive' 'Positive' 'Negative ' 'Positive' 'Positive'\n",
      " 'Negative ' 'Positive' 'Negative ' 'Positive' 'Positive' 'Positive'\n",
      " 'Positive' 'Negative ' 'Positive' 'Positive' 'Positive' 'Positive'\n",
      " 'Positive' 'Positive' 'Positive' 'Negative ' 'Positive' 'Positive'\n",
      " 'Positive' 'Negative ' 'Positive' 'Positive' 'Negative ' 'Positive'\n",
      " 'Positive' 'Positive' 'Positive' 'Positive' 'Positive' 'Positive'\n",
      " 'Positive' 'Negative ' 'Negative ' 'Negative ' 'Positive' 'Negative '\n",
      " 'Positive' 'Positive' 'Positive' 'Positive' 'Positive' 'Positive'\n",
      " 'Positive' 'Positive' 'Positive' 'Positive']\n"
     ]
    }
   ],
   "source": [
    "print(y)"
   ]
  },
  {
   "cell_type": "code",
   "execution_count": 8,
   "metadata": {},
   "outputs": [],
   "source": [
    "from sklearn.compose import ColumnTransformer\n",
    "from sklearn.preprocessing import OneHotEncoder\n",
    "ct = ColumnTransformer(transformers=[('encoder', OneHotEncoder(), [1,2])], remainder='passthrough')\n",
    "X = np.array(ct.fit_transform(X))"
   ]
  },
  {
   "cell_type": "code",
   "execution_count": 9,
   "metadata": {},
   "outputs": [
    {
     "name": "stdout",
     "output_type": "stream",
     "text": [
      "[[1.0 0.0 0.0 ... 1.0 20 4]\n",
      " [1.0 0.0 0.0 ... 1.0 24 3]\n",
      " [0.0 1.0 0.0 ... 1.0 22 3]\n",
      " ...\n",
      " [1.0 0.0 0.0 ... 1.0 22 5]\n",
      " [0.0 1.0 0.0 ... 1.0 23 2]\n",
      " [0.0 1.0 0.0 ... 1.0 23 5]]\n"
     ]
    }
   ],
   "source": [
    "print(X)"
   ]
  },
  {
   "cell_type": "code",
   "execution_count": 10,
   "metadata": {},
   "outputs": [],
   "source": [
    "from sklearn.preprocessing import LabelEncoder\n",
    "le = LabelEncoder()\n",
    "y = le.fit_transform(y)"
   ]
  },
  {
   "cell_type": "code",
   "execution_count": 11,
   "metadata": {},
   "outputs": [
    {
     "name": "stdout",
     "output_type": "stream",
     "text": [
      "[1 1 0 1 1 1 1 1 1 1 1 0 1 1 1 1 1 0 0 1 1 1 1 1 1 1 1 1 1 1 1 1 1 1 1 1 1\n",
      " 0 1 1 0 1 1 1 1 1 1 1 0 1 1 1 1 1 1 1 1 1 1 1 1 1 1 1 1 1 1 1 1 1 1 1 1 1\n",
      " 1 1 1 1 1 1 1 1 1 1 1 1 1 1 1 0 1 1 1 1 1 1 1 1 1 1 1 1 1 1 0 1 1 1 1 1 1\n",
      " 1 1 1 1 0 1 1 1 1 1 1 1 0 0 1 1 1 1 1 1 1 1 0 1 1 1 0 1 1 1 0 1 1 0 1 1 1\n",
      " 1 1 1 1 1 1 1 1 1 1 0 1 1 0 1 1 1 1 0 1 1 0 1 1 1 1 1 1 1 0 0 1 1 0 1 1 1\n",
      " 1 1 1 0 1 0 1 1 1 1 1 1 1 1 0 1 1 1 1 1 1 0 1 1 0 0 1 0 1 1 0 1 0 1 1 1 1\n",
      " 1 1 1 1 1 1 0 1 1 1 0 1 1 0 1 1 1 1 1 1 1 1 0 1 0 1 0 1 1 1 1 1 1 1 0 0 1\n",
      " 0 1 0 0 0 1 1 0 1 1 1 1 0 1 1 1 1 1 1 0 1 1 1 1 1 1 1 1 0 1 1 1 1 0 0 0 1\n",
      " 1 1 0 0 0 1 1 1 1 1 1 1 1 0 1 1 1 1 1 0 1 1 1 0 1 1 0 1 1 1 1 1 1 1 1 1 1\n",
      " 0 1 1 0 1 1 0 1 1 0 1 0 1 1 1 1 0 1 1 1 1 1 1 1 0 1 1 1 0 1 1 0 1 1 1 1 1\n",
      " 1 1 1 0 0 0 1 0 1 1 1 1 1 1 1 1 1 1]\n"
     ]
    }
   ],
   "source": [
    "print(y)"
   ]
  },
  {
   "cell_type": "code",
   "execution_count": 12,
   "metadata": {},
   "outputs": [],
   "source": [
    "from sklearn.model_selection import train_test_split\n",
    "X_train, X_test, y_train, y_test = train_test_split(X, y, test_size = 0.2, random_state = 1)"
   ]
  },
  {
   "cell_type": "code",
   "execution_count": 13,
   "metadata": {},
   "outputs": [
    {
     "name": "stdout",
     "output_type": "stream",
     "text": [
      "[[0.0 1.0 1.0 ... 0.0 30 5]\n",
      " [1.0 0.0 1.0 ... 0.0 22 4]\n",
      " [0.0 1.0 0.0 ... 1.0 22 3]\n",
      " ...\n",
      " [1.0 0.0 0.0 ... 1.0 25 3]\n",
      " [0.0 1.0 1.0 ... 0.0 29 3]\n",
      " [1.0 0.0 0.0 ... 0.0 32 5]]\n"
     ]
    }
   ],
   "source": [
    "print(X_train)"
   ]
  },
  {
   "cell_type": "code",
   "execution_count": 14,
   "metadata": {},
   "outputs": [
    {
     "name": "stdout",
     "output_type": "stream",
     "text": [
      "[0 1 1 0 1 1 1 1 1 1 0 1 0 1 1 1 1 1 1 0 1 1 1 1 1 1 1 1 1 1 1 1 0 1 1 1 1\n",
      " 1 1 1 1 1 1 0 1 0 1 1 1 1 1 1 1 1 0 1 1 1 0 1 1 1 1 1 1 1 1 1 1 1 1 1 1 1\n",
      " 1 1 1 1 1 1 1 1 1 0 1 1 1 1 1 1 1 0 1 1 0 0 1 1 0 1 1 1 1 0 1 1 1 1 1 1 1\n",
      " 0 1 1 1 1 1 1 1 0 1 1 1 0 1 0 1 1 1 1 1 1 1 1 1 1 1 0 1 0 1 1 1 1 0 1 1 0\n",
      " 1 1 1 1 1 0 1 0 1 0 1 1 1 1 0 1 0 1 1 1 0 1 1 1 0 0 1 1 1 1 1 0 1 1 1 1 1\n",
      " 0 1 1 1 1 1 1 1 1 1 0 1 1 1 1 1 1 1 1 1 1 1 0 1 1 1 1 0 1 1 1 1 1 0 1 1 0\n",
      " 0 1 0 1 0 1 1 1 1 0 1 1 1 1 1 1 1 0 1 1 0 1 1 1 1 1 1 1 1 0 1 1 1 1 1 1 1\n",
      " 1 1 0 1 1 1 1 1 1 1 1 1 1 1 0 1 1 1 0 1 1 1 1 1 0 1 0 1 1 1 0 1 1 1 1 0 1\n",
      " 1 0 1 1 1 1 0 1 0 1 1 1 0 0]\n"
     ]
    }
   ],
   "source": [
    "print(y_train)"
   ]
  },
  {
   "cell_type": "code",
   "execution_count": 15,
   "metadata": {},
   "outputs": [
    {
     "name": "stdout",
     "output_type": "stream",
     "text": [
      "[[1.0 0.0 0.0 0.0 0.0 1.0 24 3]\n",
      " [1.0 0.0 0.0 0.0 1.0 0.0 25 3]\n",
      " [0.0 1.0 0.0 0.0 0.0 1.0 25 4]\n",
      " [0.0 1.0 0.0 0.0 0.0 1.0 23 1]\n",
      " [0.0 1.0 0.0 0.0 0.0 1.0 24 2]\n",
      " [1.0 0.0 1.0 0.0 0.0 0.0 22 4]\n",
      " [1.0 0.0 0.0 0.0 0.0 1.0 25 2]\n",
      " [0.0 1.0 0.0 0.0 0.0 1.0 23 3]\n",
      " [1.0 0.0 0.0 0.0 1.0 0.0 27 5]\n",
      " [1.0 0.0 0.0 0.0 0.0 1.0 25 3]\n",
      " [1.0 0.0 1.0 0.0 0.0 0.0 31 5]\n",
      " [0.0 1.0 0.0 0.0 0.0 1.0 22 4]\n",
      " [1.0 0.0 1.0 0.0 0.0 0.0 24 4]\n",
      " [0.0 1.0 1.0 0.0 0.0 0.0 25 3]\n",
      " [0.0 1.0 0.0 0.0 0.0 1.0 22 3]\n",
      " [0.0 1.0 1.0 0.0 0.0 0.0 26 3]\n",
      " [0.0 1.0 1.0 0.0 0.0 0.0 32 5]\n",
      " [0.0 1.0 0.0 0.0 0.0 1.0 22 2]\n",
      " [0.0 1.0 1.0 0.0 0.0 0.0 27 4]\n",
      " [1.0 0.0 0.0 1.0 0.0 0.0 31 5]\n",
      " [1.0 0.0 0.0 0.0 0.0 1.0 25 3]\n",
      " [0.0 1.0 0.0 0.0 1.0 0.0 30 1]\n",
      " [1.0 0.0 1.0 0.0 0.0 0.0 23 2]\n",
      " [1.0 0.0 0.0 0.0 1.0 0.0 26 5]\n",
      " [0.0 1.0 0.0 0.0 0.0 1.0 23 2]\n",
      " [0.0 1.0 0.0 0.0 0.0 1.0 21 3]\n",
      " [0.0 1.0 1.0 0.0 0.0 0.0 27 2]\n",
      " [0.0 1.0 0.0 0.0 1.0 0.0 30 6]\n",
      " [1.0 0.0 0.0 0.0 0.0 1.0 23 1]\n",
      " [1.0 0.0 1.0 0.0 0.0 0.0 27 2]\n",
      " [0.0 1.0 0.0 0.0 1.0 0.0 28 2]\n",
      " [0.0 1.0 0.0 0.0 1.0 0.0 26 2]\n",
      " [0.0 1.0 0.0 0.0 1.0 0.0 31 6]\n",
      " [0.0 1.0 0.0 0.0 0.0 1.0 23 2]\n",
      " [1.0 0.0 0.0 0.0 0.0 1.0 22 5]\n",
      " [1.0 0.0 1.0 0.0 0.0 0.0 21 2]\n",
      " [0.0 1.0 0.0 0.0 1.0 0.0 25 2]\n",
      " [0.0 1.0 1.0 0.0 0.0 0.0 24 2]\n",
      " [0.0 1.0 1.0 0.0 0.0 0.0 28 1]\n",
      " [1.0 0.0 1.0 0.0 0.0 0.0 27 5]\n",
      " [1.0 0.0 1.0 0.0 0.0 0.0 26 3]\n",
      " [1.0 0.0 0.0 0.0 0.0 1.0 23 4]\n",
      " [0.0 1.0 0.0 0.0 0.0 1.0 22 2]\n",
      " [1.0 0.0 0.0 0.0 0.0 1.0 20 2]\n",
      " [0.0 1.0 0.0 0.0 0.0 1.0 22 3]\n",
      " [1.0 0.0 0.0 0.0 0.0 1.0 23 3]\n",
      " [0.0 1.0 0.0 0.0 0.0 1.0 23 2]\n",
      " [0.0 1.0 0.0 0.0 1.0 0.0 28 2]\n",
      " [0.0 1.0 1.0 0.0 0.0 0.0 32 6]\n",
      " [0.0 1.0 0.0 0.0 0.0 1.0 21 2]\n",
      " [1.0 0.0 1.0 0.0 0.0 0.0 25 2]\n",
      " [0.0 1.0 1.0 0.0 0.0 0.0 27 1]\n",
      " [0.0 1.0 0.0 0.0 1.0 0.0 27 6]\n",
      " [0.0 1.0 0.0 0.0 0.0 1.0 23 3]\n",
      " [0.0 1.0 0.0 0.0 0.0 1.0 25 6]\n",
      " [0.0 1.0 0.0 0.0 0.0 1.0 23 2]\n",
      " [0.0 1.0 0.0 0.0 0.0 1.0 23 3]\n",
      " [0.0 1.0 0.0 0.0 0.0 1.0 25 4]\n",
      " [1.0 0.0 0.0 0.0 1.0 0.0 27 3]\n",
      " [0.0 1.0 0.0 0.0 0.0 1.0 24 4]\n",
      " [1.0 0.0 0.0 0.0 0.0 1.0 26 2]\n",
      " [0.0 1.0 0.0 0.0 1.0 0.0 26 2]\n",
      " [0.0 1.0 1.0 0.0 0.0 0.0 28 3]\n",
      " [0.0 1.0 1.0 0.0 0.0 0.0 26 3]\n",
      " [1.0 0.0 1.0 0.0 0.0 0.0 28 5]\n",
      " [0.0 1.0 0.0 0.0 0.0 1.0 23 3]\n",
      " [1.0 0.0 0.0 0.0 0.0 1.0 22 2]\n",
      " [1.0 0.0 0.0 0.0 1.0 0.0 26 3]\n",
      " [0.0 1.0 0.0 0.0 0.0 1.0 21 2]\n",
      " [1.0 0.0 0.0 0.0 0.0 1.0 23 3]\n",
      " [0.0 1.0 0.0 0.0 0.0 1.0 23 4]\n",
      " [1.0 0.0 0.0 0.0 0.0 1.0 20 2]\n",
      " [0.0 1.0 0.0 0.0 0.0 1.0 21 4]\n",
      " [1.0 0.0 0.0 0.0 0.0 1.0 22 3]\n",
      " [1.0 0.0 1.0 0.0 0.0 0.0 27 2]\n",
      " [0.0 1.0 1.0 0.0 0.0 0.0 25 4]\n",
      " [0.0 1.0 1.0 0.0 0.0 0.0 23 2]\n",
      " [1.0 0.0 1.0 0.0 0.0 0.0 26 2]]\n"
     ]
    }
   ],
   "source": [
    "print(X_test)"
   ]
  },
  {
   "cell_type": "code",
   "execution_count": 16,
   "metadata": {},
   "outputs": [
    {
     "name": "stdout",
     "output_type": "stream",
     "text": [
      "[1 1 1 1 1 1 1 1 1 1 1 1 1 1 1 1 1 1 1 1 1 0 1 0 0 0 1 1 1 1 1 1 1 1 1 0 1\n",
      " 1 1 1 1 1 1 1 0 0 0 1 1 1 1 1 1 1 1 0 1 0 1 1 1 1 1 0 0 1 1 1 1 1 1 1 1 1\n",
      " 1 1 1 0]\n"
     ]
    }
   ],
   "source": [
    "print(y_test)"
   ]
  },
  {
   "cell_type": "code",
   "execution_count": 17,
   "metadata": {},
   "outputs": [],
   "source": [
    "from sklearn.preprocessing import StandardScaler\n",
    "sc = StandardScaler()\n",
    "X_train = sc.fit_transform(X_train)\n",
    "X_test = sc.transform(X_test)"
   ]
  },
  {
   "cell_type": "code",
   "execution_count": 18,
   "metadata": {},
   "outputs": [
    {
     "name": "stdout",
     "output_type": "stream",
     "text": [
      "[[-0.87256154  0.87256154  1.52752523 ... -1.0947975   1.80878374\n",
      "   1.23008424]\n",
      " [ 1.14605097 -1.14605097  1.52752523 ... -1.0947975  -0.85498329\n",
      "   0.48964518]\n",
      " [-0.87256154  0.87256154 -0.65465367 ...  0.91341093 -0.85498329\n",
      "  -0.25079387]\n",
      " ...\n",
      " [ 1.14605097 -1.14605097 -0.65465367 ...  0.91341093  0.14392935\n",
      "  -0.25079387]\n",
      " [-0.87256154  0.87256154  1.52752523 ... -1.0947975   1.47581286\n",
      "  -0.25079387]\n",
      " [ 1.14605097 -1.14605097 -0.65465367 ... -1.0947975   2.47472549\n",
      "   1.23008424]]\n"
     ]
    }
   ],
   "source": [
    "print(X_train)"
   ]
  },
  {
   "cell_type": "code",
   "execution_count": 19,
   "metadata": {},
   "outputs": [
    {
     "name": "stdout",
     "output_type": "stream",
     "text": [
      "[[ 1.14605097 -1.14605097 -0.65465367 -0.16275769 -0.38490018  0.91341093\n",
      "  -0.18904153 -0.25079387]\n",
      " [ 1.14605097 -1.14605097 -0.65465367 -0.16275769  2.59807621 -1.0947975\n",
      "   0.14392935 -0.25079387]\n",
      " [-0.87256154  0.87256154 -0.65465367 -0.16275769 -0.38490018  0.91341093\n",
      "   0.14392935  0.48964518]\n",
      " [-0.87256154  0.87256154 -0.65465367 -0.16275769 -0.38490018  0.91341093\n",
      "  -0.52201241 -1.73167198]\n",
      " [-0.87256154  0.87256154 -0.65465367 -0.16275769 -0.38490018  0.91341093\n",
      "  -0.18904153 -0.99123293]\n",
      " [ 1.14605097 -1.14605097  1.52752523 -0.16275769 -0.38490018 -1.0947975\n",
      "  -0.85498329  0.48964518]\n",
      " [ 1.14605097 -1.14605097 -0.65465367 -0.16275769 -0.38490018  0.91341093\n",
      "   0.14392935 -0.99123293]\n",
      " [-0.87256154  0.87256154 -0.65465367 -0.16275769 -0.38490018  0.91341093\n",
      "  -0.52201241 -0.25079387]\n",
      " [ 1.14605097 -1.14605097 -0.65465367 -0.16275769  2.59807621 -1.0947975\n",
      "   0.8098711   1.23008424]\n",
      " [ 1.14605097 -1.14605097 -0.65465367 -0.16275769 -0.38490018  0.91341093\n",
      "   0.14392935 -0.25079387]\n",
      " [ 1.14605097 -1.14605097  1.52752523 -0.16275769 -0.38490018 -1.0947975\n",
      "   2.14175461  1.23008424]\n",
      " [-0.87256154  0.87256154 -0.65465367 -0.16275769 -0.38490018  0.91341093\n",
      "  -0.85498329  0.48964518]\n",
      " [ 1.14605097 -1.14605097  1.52752523 -0.16275769 -0.38490018 -1.0947975\n",
      "  -0.18904153  0.48964518]\n",
      " [-0.87256154  0.87256154  1.52752523 -0.16275769 -0.38490018 -1.0947975\n",
      "   0.14392935 -0.25079387]\n",
      " [-0.87256154  0.87256154 -0.65465367 -0.16275769 -0.38490018  0.91341093\n",
      "  -0.85498329 -0.25079387]\n",
      " [-0.87256154  0.87256154  1.52752523 -0.16275769 -0.38490018 -1.0947975\n",
      "   0.47690022 -0.25079387]\n",
      " [-0.87256154  0.87256154  1.52752523 -0.16275769 -0.38490018 -1.0947975\n",
      "   2.47472549  1.23008424]\n",
      " [-0.87256154  0.87256154 -0.65465367 -0.16275769 -0.38490018  0.91341093\n",
      "  -0.85498329 -0.99123293]\n",
      " [-0.87256154  0.87256154  1.52752523 -0.16275769 -0.38490018 -1.0947975\n",
      "   0.8098711   0.48964518]\n",
      " [ 1.14605097 -1.14605097 -0.65465367  6.14410286 -0.38490018 -1.0947975\n",
      "   2.14175461  1.23008424]\n",
      " [ 1.14605097 -1.14605097 -0.65465367 -0.16275769 -0.38490018  0.91341093\n",
      "   0.14392935 -0.25079387]\n",
      " [-0.87256154  0.87256154 -0.65465367 -0.16275769  2.59807621 -1.0947975\n",
      "   1.80878374 -1.73167198]\n",
      " [ 1.14605097 -1.14605097  1.52752523 -0.16275769 -0.38490018 -1.0947975\n",
      "  -0.52201241 -0.99123293]\n",
      " [ 1.14605097 -1.14605097 -0.65465367 -0.16275769  2.59807621 -1.0947975\n",
      "   0.47690022  1.23008424]\n",
      " [-0.87256154  0.87256154 -0.65465367 -0.16275769 -0.38490018  0.91341093\n",
      "  -0.52201241 -0.99123293]\n",
      " [-0.87256154  0.87256154 -0.65465367 -0.16275769 -0.38490018  0.91341093\n",
      "  -1.18795416 -0.25079387]\n",
      " [-0.87256154  0.87256154  1.52752523 -0.16275769 -0.38490018 -1.0947975\n",
      "   0.8098711  -0.99123293]\n",
      " [-0.87256154  0.87256154 -0.65465367 -0.16275769  2.59807621 -1.0947975\n",
      "   1.80878374  1.97052329]\n",
      " [ 1.14605097 -1.14605097 -0.65465367 -0.16275769 -0.38490018  0.91341093\n",
      "  -0.52201241 -1.73167198]\n",
      " [ 1.14605097 -1.14605097  1.52752523 -0.16275769 -0.38490018 -1.0947975\n",
      "   0.8098711  -0.99123293]\n",
      " [-0.87256154  0.87256154 -0.65465367 -0.16275769  2.59807621 -1.0947975\n",
      "   1.14284198 -0.99123293]\n",
      " [-0.87256154  0.87256154 -0.65465367 -0.16275769  2.59807621 -1.0947975\n",
      "   0.47690022 -0.99123293]\n",
      " [-0.87256154  0.87256154 -0.65465367 -0.16275769  2.59807621 -1.0947975\n",
      "   2.14175461  1.97052329]\n",
      " [-0.87256154  0.87256154 -0.65465367 -0.16275769 -0.38490018  0.91341093\n",
      "  -0.52201241 -0.99123293]\n",
      " [ 1.14605097 -1.14605097 -0.65465367 -0.16275769 -0.38490018  0.91341093\n",
      "  -0.85498329  1.23008424]\n",
      " [ 1.14605097 -1.14605097  1.52752523 -0.16275769 -0.38490018 -1.0947975\n",
      "  -1.18795416 -0.99123293]\n",
      " [-0.87256154  0.87256154 -0.65465367 -0.16275769  2.59807621 -1.0947975\n",
      "   0.14392935 -0.99123293]\n",
      " [-0.87256154  0.87256154  1.52752523 -0.16275769 -0.38490018 -1.0947975\n",
      "  -0.18904153 -0.99123293]\n",
      " [-0.87256154  0.87256154  1.52752523 -0.16275769 -0.38490018 -1.0947975\n",
      "   1.14284198 -1.73167198]\n",
      " [ 1.14605097 -1.14605097  1.52752523 -0.16275769 -0.38490018 -1.0947975\n",
      "   0.8098711   1.23008424]\n",
      " [ 1.14605097 -1.14605097  1.52752523 -0.16275769 -0.38490018 -1.0947975\n",
      "   0.47690022 -0.25079387]\n",
      " [ 1.14605097 -1.14605097 -0.65465367 -0.16275769 -0.38490018  0.91341093\n",
      "  -0.52201241  0.48964518]\n",
      " [-0.87256154  0.87256154 -0.65465367 -0.16275769 -0.38490018  0.91341093\n",
      "  -0.85498329 -0.99123293]\n",
      " [ 1.14605097 -1.14605097 -0.65465367 -0.16275769 -0.38490018  0.91341093\n",
      "  -1.52092504 -0.99123293]\n",
      " [-0.87256154  0.87256154 -0.65465367 -0.16275769 -0.38490018  0.91341093\n",
      "  -0.85498329 -0.25079387]\n",
      " [ 1.14605097 -1.14605097 -0.65465367 -0.16275769 -0.38490018  0.91341093\n",
      "  -0.52201241 -0.25079387]\n",
      " [-0.87256154  0.87256154 -0.65465367 -0.16275769 -0.38490018  0.91341093\n",
      "  -0.52201241 -0.99123293]\n",
      " [-0.87256154  0.87256154 -0.65465367 -0.16275769  2.59807621 -1.0947975\n",
      "   1.14284198 -0.99123293]\n",
      " [-0.87256154  0.87256154  1.52752523 -0.16275769 -0.38490018 -1.0947975\n",
      "   2.47472549  1.97052329]\n",
      " [-0.87256154  0.87256154 -0.65465367 -0.16275769 -0.38490018  0.91341093\n",
      "  -1.18795416 -0.99123293]\n",
      " [ 1.14605097 -1.14605097  1.52752523 -0.16275769 -0.38490018 -1.0947975\n",
      "   0.14392935 -0.99123293]\n",
      " [-0.87256154  0.87256154  1.52752523 -0.16275769 -0.38490018 -1.0947975\n",
      "   0.8098711  -1.73167198]\n",
      " [-0.87256154  0.87256154 -0.65465367 -0.16275769  2.59807621 -1.0947975\n",
      "   0.8098711   1.97052329]\n",
      " [-0.87256154  0.87256154 -0.65465367 -0.16275769 -0.38490018  0.91341093\n",
      "  -0.52201241 -0.25079387]\n",
      " [-0.87256154  0.87256154 -0.65465367 -0.16275769 -0.38490018  0.91341093\n",
      "   0.14392935  1.97052329]\n",
      " [-0.87256154  0.87256154 -0.65465367 -0.16275769 -0.38490018  0.91341093\n",
      "  -0.52201241 -0.99123293]\n",
      " [-0.87256154  0.87256154 -0.65465367 -0.16275769 -0.38490018  0.91341093\n",
      "  -0.52201241 -0.25079387]\n",
      " [-0.87256154  0.87256154 -0.65465367 -0.16275769 -0.38490018  0.91341093\n",
      "   0.14392935  0.48964518]\n",
      " [ 1.14605097 -1.14605097 -0.65465367 -0.16275769  2.59807621 -1.0947975\n",
      "   0.8098711  -0.25079387]\n",
      " [-0.87256154  0.87256154 -0.65465367 -0.16275769 -0.38490018  0.91341093\n",
      "  -0.18904153  0.48964518]\n",
      " [ 1.14605097 -1.14605097 -0.65465367 -0.16275769 -0.38490018  0.91341093\n",
      "   0.47690022 -0.99123293]\n",
      " [-0.87256154  0.87256154 -0.65465367 -0.16275769  2.59807621 -1.0947975\n",
      "   0.47690022 -0.99123293]\n",
      " [-0.87256154  0.87256154  1.52752523 -0.16275769 -0.38490018 -1.0947975\n",
      "   1.14284198 -0.25079387]\n",
      " [-0.87256154  0.87256154  1.52752523 -0.16275769 -0.38490018 -1.0947975\n",
      "   0.47690022 -0.25079387]\n",
      " [ 1.14605097 -1.14605097  1.52752523 -0.16275769 -0.38490018 -1.0947975\n",
      "   1.14284198  1.23008424]\n",
      " [-0.87256154  0.87256154 -0.65465367 -0.16275769 -0.38490018  0.91341093\n",
      "  -0.52201241 -0.25079387]\n",
      " [ 1.14605097 -1.14605097 -0.65465367 -0.16275769 -0.38490018  0.91341093\n",
      "  -0.85498329 -0.99123293]\n",
      " [ 1.14605097 -1.14605097 -0.65465367 -0.16275769  2.59807621 -1.0947975\n",
      "   0.47690022 -0.25079387]\n",
      " [-0.87256154  0.87256154 -0.65465367 -0.16275769 -0.38490018  0.91341093\n",
      "  -1.18795416 -0.99123293]\n",
      " [ 1.14605097 -1.14605097 -0.65465367 -0.16275769 -0.38490018  0.91341093\n",
      "  -0.52201241 -0.25079387]\n",
      " [-0.87256154  0.87256154 -0.65465367 -0.16275769 -0.38490018  0.91341093\n",
      "  -0.52201241  0.48964518]\n",
      " [ 1.14605097 -1.14605097 -0.65465367 -0.16275769 -0.38490018  0.91341093\n",
      "  -1.52092504 -0.99123293]\n",
      " [-0.87256154  0.87256154 -0.65465367 -0.16275769 -0.38490018  0.91341093\n",
      "  -1.18795416  0.48964518]\n",
      " [ 1.14605097 -1.14605097 -0.65465367 -0.16275769 -0.38490018  0.91341093\n",
      "  -0.85498329 -0.25079387]\n",
      " [ 1.14605097 -1.14605097  1.52752523 -0.16275769 -0.38490018 -1.0947975\n",
      "   0.8098711  -0.99123293]\n",
      " [-0.87256154  0.87256154  1.52752523 -0.16275769 -0.38490018 -1.0947975\n",
      "   0.14392935  0.48964518]\n",
      " [-0.87256154  0.87256154  1.52752523 -0.16275769 -0.38490018 -1.0947975\n",
      "  -0.52201241 -0.99123293]\n",
      " [ 1.14605097 -1.14605097  1.52752523 -0.16275769 -0.38490018 -1.0947975\n",
      "   0.47690022 -0.99123293]]\n"
     ]
    }
   ],
   "source": [
    "print(X_test)"
   ]
  },
  {
   "cell_type": "code",
   "execution_count": 20,
   "metadata": {},
   "outputs": [
    {
     "data": {
      "image/png": "[encoded data removed]",
      "text/plain": [
       "<Figure size 700x500 with 1 Axes>"
      ]
     },
     "metadata": {},
     "output_type": "display_data"
    }
   ],
   "source": [
    "plt.figure(figsize=(7, 5))\n",
    "sns.countplot(x='Feedback', data=dataset, palette=\"BuGn_r\")\n",
    "plt.show()"
   ]
  },
  {
   "cell_type": "code",
   "execution_count": 21,
   "metadata": {},
   "outputs": [
    {
     "data": {
      "text/html": [
       "<style>#sk-container-id-1 {color: black;}#sk-container-id-1 pre{padding: 0;}#sk-container-id-1 div.sk-toggleable {background-color: white;}#sk-container-id-1 label.sk-toggleable__label {cursor: pointer;display: block;width: 100%;margin-bottom: 0;padding: 0.3em;box-sizing: border-box;text-align: center;}#sk-container-id-1 label.sk-toggleable__label-arrow:before {content: \"▸\";float: left;margin-right: 0.25em;color: #696969;}#sk-container-id-1 label.sk-toggleable__label-arrow:hover:before {color: black;}#sk-container-id-1 div.sk-estimator:hover label.sk-toggleable__label-arrow:before {color: black;}#sk-container-id-1 div.sk-toggleable__content {max-height: 0;max-width: 0;overflow: hidden;text-align: left;background-color: #f0f8ff;}#sk-container-id-1 div.sk-toggleable__content pre {margin: 0.2em;color: black;border-radius: 0.25em;background-color: #f0f8ff;}#sk-container-id-1 input.sk-toggleable__control:checked~div.sk-toggleable__content {max-height: 200px;max-width: 100%;overflow: auto;}#sk-container-id-1 input.sk-toggleable__control:checked~label.sk-toggleable__label-arrow:before {content: \"▾\";}#sk-container-id-1 div.sk-estimator input.sk-toggleable__control:checked~label.sk-toggleable__label {background-color: #d4ebff;}#sk-container-id-1 div.sk-label input.sk-toggleable__control:checked~label.sk-toggleable__label {background-color: #d4ebff;}#sk-container-id-1 input.sk-hidden--visually {border: 0;clip: rect(1px 1px 1px 1px);clip: rect(1px, 1px, 1px, 1px);height: 1px;margin: -1px;overflow: hidden;padding: 0;position: absolute;width: 1px;}#sk-container-id-1 div.sk-estimator {font-family: monospace;background-color: #f0f8ff;border: 1px dotted black;border-radius: 0.25em;box-sizing: border-box;margin-bottom: 0.5em;}#sk-container-id-1 div.sk-estimator:hover {background-color: #d4ebff;}#sk-container-id-1 div.sk-parallel-item::after {content: \"\";width: 100%;border-bottom: 1px solid gray;flex-grow: 1;}#sk-container-id-1 div.sk-label:hover label.sk-toggleable__label {background-color: #d4ebff;}#sk-container-id-1 div.sk-serial::before {content: \"\";position: absolute;border-left: 1px solid gray;box-sizing: border-box;top: 0;bottom: 0;left: 50%;z-index: 0;}#sk-container-id-1 div.sk-serial {display: flex;flex-direction: column;align-items: center;background-color: white;padding-right: 0.2em;padding-left: 0.2em;position: relative;}#sk-container-id-1 div.sk-item {position: relative;z-index: 1;}#sk-container-id-1 div.sk-parallel {display: flex;align-items: stretch;justify-content: center;background-color: white;position: relative;}#sk-container-id-1 div.sk-item::before, #sk-container-id-1 div.sk-parallel-item::before {content: \"\";position: absolute;border-left: 1px solid gray;box-sizing: border-box;top: 0;bottom: 0;left: 50%;z-index: -1;}#sk-container-id-1 div.sk-parallel-item {display: flex;flex-direction: column;z-index: 1;position: relative;background-color: white;}#sk-container-id-1 div.sk-parallel-item:first-child::after {align-self: flex-end;width: 50%;}#sk-container-id-1 div.sk-parallel-item:last-child::after {align-self: flex-start;width: 50%;}#sk-container-id-1 div.sk-parallel-item:only-child::after {width: 0;}#sk-container-id-1 div.sk-dashed-wrapped {border: 1px dashed gray;margin: 0 0.4em 0.5em 0.4em;box-sizing: border-box;padding-bottom: 0.4em;background-color: white;}#sk-container-id-1 div.sk-label label {font-family: monospace;font-weight: bold;display: inline-block;line-height: 1.2em;}#sk-container-id-1 div.sk-label-container {text-align: center;}#sk-container-id-1 div.sk-container {/* jupyter's `normalize.less` sets `[hidden] { display: none; }` but bootstrap.min.css set `[hidden] { display: none !important; }` so we also need the `!important` here to be able to override the default hidden behavior on the sphinx rendered scikit-learn.org. See: https://github.com/scikit-learn/scikit-learn/issues/21755 */display: inline-block !important;position: relative;}#sk-container-id-1 div.sk-text-repr-fallback {display: none;}</style><div id=\"sk-container-id-1\" class=\"sk-top-container\"><div class=\"sk-text-repr-fallback\"><pre>LogisticRegression(random_state=0)</pre><b>In a Jupyter environment, please rerun this cell to show the HTML representation or trust the notebook. <br />On GitHub, the HTML representation is unable to render, please try loading this page with nbviewer.org.</b></div><div class=\"sk-container\" hidden><div class=\"sk-item\"><div class=\"sk-estimator sk-toggleable\"><input class=\"sk-toggleable__control sk-hidden--visually\" id=\"sk-estimator-id-1\" type=\"checkbox\" checked><label for=\"sk-estimator-id-1\" class=\"sk-toggleable__label sk-toggleable__label-arrow\">LogisticRegression</label><div class=\"sk-toggleable__content\"><pre>LogisticRegression(random_state=0)</pre></div></div></div></div></div>"
      ],
      "text/plain": [
       "LogisticRegression(random_state=0)"
      ]
     },
     "execution_count": 21,
     "metadata": {},
     "output_type": "execute_result"
    }
   ],
   "source": [
    "from sklearn.linear_model import LogisticRegression\n",
    "classifier = LogisticRegression(random_state = 0)\n",
    "classifier.fit(X_train, y_train)"
   ]
  },
  {
   "cell_type": "code",
   "execution_count": 22,
   "metadata": {},
   "outputs": [
    {
     "name": "stdout",
     "output_type": "stream",
     "text": [
      "[[1 1]\n",
      " [1 1]\n",
      " [1 1]\n",
      " [1 1]\n",
      " [1 1]\n",
      " [1 1]\n",
      " [1 1]\n",
      " [1 1]\n",
      " [1 1]\n",
      " [1 1]\n",
      " [1 1]\n",
      " [1 1]\n",
      " [1 1]\n",
      " [1 1]\n",
      " [1 1]\n",
      " [1 1]\n",
      " [1 1]\n",
      " [1 1]\n",
      " [1 1]\n",
      " [1 1]\n",
      " [1 1]\n",
      " [1 0]\n",
      " [1 1]\n",
      " [1 0]\n",
      " [1 0]\n",
      " [1 0]\n",
      " [1 1]\n",
      " [1 1]\n",
      " [1 1]\n",
      " [1 1]\n",
      " [1 1]\n",
      " [1 1]\n",
      " [1 1]\n",
      " [1 1]\n",
      " [1 1]\n",
      " [1 0]\n",
      " [1 1]\n",
      " [1 1]\n",
      " [1 1]\n",
      " [1 1]\n",
      " [1 1]\n",
      " [1 1]\n",
      " [1 1]\n",
      " [1 1]\n",
      " [1 0]\n",
      " [1 0]\n",
      " [1 0]\n",
      " [1 1]\n",
      " [1 1]\n",
      " [1 1]\n",
      " [1 1]\n",
      " [1 1]\n",
      " [1 1]\n",
      " [1 1]\n",
      " [1 1]\n",
      " [1 0]\n",
      " [1 1]\n",
      " [1 0]\n",
      " [1 1]\n",
      " [1 1]\n",
      " [1 1]\n",
      " [1 1]\n",
      " [1 1]\n",
      " [1 0]\n",
      " [1 0]\n",
      " [1 1]\n",
      " [1 1]\n",
      " [1 1]\n",
      " [1 1]\n",
      " [1 1]\n",
      " [1 1]\n",
      " [1 1]\n",
      " [1 1]\n",
      " [1 1]\n",
      " [1 1]\n",
      " [1 1]\n",
      " [1 1]\n",
      " [1 0]]\n"
     ]
    }
   ],
   "source": [
    "y_pred = classifier.predict(X_test)\n",
    "print(np.concatenate((y_pred.reshape(len(y_pred),1), y_test.reshape(len(y_test),1)),1))"
   ]
  },
  {
   "cell_type": "code",
   "execution_count": 23,
   "metadata": {},
   "outputs": [
    {
     "name": "stdout",
     "output_type": "stream",
     "text": [
      "Accuracy of the model is = 0.8333333333333334\n"
     ]
    }
   ],
   "source": [
    "from sklearn.metrics import accuracy_score\n",
    "print('Accuracy of the model is =', accuracy_score(y_test, y_pred))"
   ]
  },
  {
   "cell_type": "code",
   "execution_count": 25,
   "metadata": {},
   "outputs": [
    {
     "data": {
      "image/png": "[encoded data removed]",
      "text/plain": [
       "<Figure size 800x500 with 2 Axes>"
      ]
     },
     "metadata": {},
     "output_type": "display_data"
    },
    {
     "name": "stdout",
     "output_type": "stream",
     "text": [
      "The details for confusion matrix is =\n",
      "              precision    recall  f1-score   support\n",
      "\n",
      "           0       0.00      0.00      0.00        13\n",
      "           1       0.83      1.00      0.91        65\n",
      "\n",
      "    accuracy                           0.83        78\n",
      "   macro avg       0.42      0.50      0.45        78\n",
      "weighted avg       0.69      0.83      0.76        78\n",
      "\n"
     ]
    },
    {
     "name": "stderr",
     "output_type": "stream",
     "text": [
      "c:\\Users\\chinm\\AppData\\Local\\Programs\\Python\\Python311\\Lib\\site-packages\\sklearn\\metrics\\_classification.py:1469: UndefinedMetricWarning: Precision and F-score are ill-defined and being set to 0.0 in labels with no predicted samples. Use `zero_division` parameter to control this behavior.\n",
      "  _warn_prf(average, modifier, msg_start, len(result))\n",
      "c:\\Users\\chinm\\AppData\\Local\\Programs\\Python\\Python311\\Lib\\site-packages\\sklearn\\metrics\\_classification.py:1469: UndefinedMetricWarning: Precision and F-score are ill-defined and being set to 0.0 in labels with no predicted samples. Use `zero_division` parameter to control this behavior.\n",
      "  _warn_prf(average, modifier, msg_start, len(result))\n",
      "c:\\Users\\chinm\\AppData\\Local\\Programs\\Python\\Python311\\Lib\\site-packages\\sklearn\\metrics\\_classification.py:1469: UndefinedMetricWarning: Precision and F-score are ill-defined and being set to 0.0 in labels with no predicted samples. Use `zero_division` parameter to control this behavior.\n",
      "  _warn_prf(average, modifier, msg_start, len(result))\n"
     ]
    }
   ],
   "source": [
    "from sklearn.metrics import confusion_matrix, classification_report\n",
    "cm = confusion_matrix(y_test, y_pred)\n",
    "conf_matrix = pd.DataFrame(data = cm, columns = ['Predicted:0', 'Predicted:1'], index =['Actual:0', 'Actual:1'])\n",
    "\n",
    "plt.figure(figsize = (8, 5))\n",
    "sns.heatmap(conf_matrix, annot = True, fmt = 'd', cmap = \"Greens\")\n",
    "\n",
    "plt.show()\n",
    "print('The details for confusion matrix is =')\n",
    "print (classification_report(y_test, y_pred))\n"
   ]
  }
 ],
 "metadata": {
  "kernelspec": {
   "display_name": "Python 3",
   "language": "python",
   "name": "python3"
  },
  "language_info": {
   "codemirror_mode": {
    "name": "ipython",
    "version": 3
   },
   "file_extension": ".py",
   "mimetype": "text/x-python",
   "name": "python",
   "nbconvert_exporter": "python",
   "pygments_lexer": "ipython3",
   "version": "3.11.5"
  }
 },
 "nbformat": 4,
 "nbformat_minor": 2
}
